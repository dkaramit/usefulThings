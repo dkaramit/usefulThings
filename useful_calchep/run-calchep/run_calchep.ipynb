{
 "cells": [
  {
   "cell_type": "code",
   "execution_count": 1,
   "metadata": {},
   "outputs": [],
   "source": [
    "import os\n",
    "import re\n",
    "\n",
    "import numpy as np"
   ]
  },
  {
   "cell_type": "code",
   "execution_count": 2,
   "metadata": {},
   "outputs": [],
   "source": [
    "import matplotlib\n",
    "import matplotlib.pyplot as plt"
   ]
  },
  {
   "cell_type": "code",
   "execution_count": 3,
   "metadata": {},
   "outputs": [],
   "source": [
    "current_path=os.getcwd()\n",
    "#result direcory. I assume that I have only one model corresponding to m1. \n",
    "res_dir='Processes/m1/Feynman/'\n",
    "\n",
    "\n",
    "batch_file='batch_file'\n",
    "\n",
    "#This is an example for the SM. You can modify the code to run in other models, or make it more involved.\n",
    "model='SM'\n",
    "\n",
    "\n",
    "\n",
    "def create_process( proc, model ):\n",
    "    '''\n",
    "        To create the n_caclhep for a process,  I choose to run a batch for this process once.\n",
    "        This will create the relevant files for this process in \"Processes/m1/Feynman/\".\n",
    "    '''\n",
    "    with open(batch_file,'w') as _f:\n",
    "        _f.write('''    \n",
    "    Model:         {0}\n",
    "    Model changed: False\n",
    "    Gauge:         Feynman\n",
    "\n",
    "    Process:   {1}\n",
    "\n",
    "    Parallelization mode : local\n",
    "    Max number of cpus : 8\n",
    "\n",
    "    nSess_1 : 1\n",
    "    nCalls_1 : 100\n",
    "    nSess_2 : 1\n",
    "    nCalls_2 : 200\n",
    "\n",
    "    sleep time: 0\n",
    "    Nice level: 19\n",
    "\n",
    "        '''.format(model,proc))\n",
    "        \n",
    "    return os.system('../calchep_batch '+batch_file)\n",
    "\n",
    "\n",
    "def run_calchep(process,pcm,mh):\n",
    "    '''\n",
    "        Run calchep for a given process for centren-of-mass momentum pcm and higgs mass mh.\n",
    "        \n",
    "    '''\n",
    "    if not os.path.exists(res_dir):\n",
    "        os.makedirs(res_dir)\n",
    "        os.system('touch '+res_dir+'processes.txt')\n",
    "\n",
    "    with open(res_dir+'processes.txt','r') as _f:\n",
    "        _pf=_f.read()\n",
    "\n",
    "        \n",
    "    tmp=re.search(process,_pf)\n",
    "    if tmp == None:\n",
    "        print('process not available. running create_process({0},{1})'.format(process,model))\n",
    "        ch=create_process(process,model)\n",
    "        if ch!=0:\n",
    "            print('Process'+ process +'may not exists.')\n",
    "            os.chdir(current_path)\n",
    "            return 0,0\n",
    "            \n",
    "        with open(res_dir+'processes.txt','r') as _f:\n",
    "            _pf=_f.read()\n",
    "\n",
    "        tmp=re.search(process,_pf)\n",
    "\n",
    "    os.chdir(res_dir+_pf[: tmp.span()[0]  ].split('\\n')[-1].split(' ')[0]+'/results')\n",
    "\n",
    "    \n",
    "    #this is what you need for calchep! You just have to run these scripts in the directory containing n_calchep!\n",
    "    os.system('../bin/set_momenta {0} {1}'.format(pcm/2,pcm/2))\n",
    "    os.system('../bin/set_param Mh {}'.format(mh))\n",
    "    os.system('../bin/set_vegas 50 1000 50 10000 0')\n",
    "    result=os.popen('../bin/run_vegas').read()\n",
    "\n",
    "    \n",
    "    \n",
    "    result=result.split(' ')\n",
    "    \n",
    "    if len(result)==1:\n",
    "        csx,err=0,0 \n",
    "    else:\n",
    "        csx,err=float(result[0]),float(result[1])\n",
    "    \n",
    "    os.chdir(current_path)\n",
    "\n",
    "    return csx,err/100.\n",
    "\n"
   ]
  },
  {
   "cell_type": "code",
   "execution_count": 4,
   "metadata": {},
   "outputs": [
    {
     "name": "stdout",
     "output_type": "stream",
     "text": [
      "(9.9615e-09, 4.1199999999999995e-06)\n",
      "1.32 s ± 0 ns per loop (mean ± std. dev. of 1 run, 1 loop each)\n",
      "(1.0642e-14, 0.08289999999999999)\n",
      "5.86 s ± 0 ns per loop (mean ± std. dev. of 1 run, 1 loop each)\n"
     ]
    }
   ],
   "source": [
    "proc='h,h->h,h'\n",
    "%timeit -n 1 -r 1 print(run_calchep(proc,1000,1))\n",
    "\n",
    "proc='h,h->h,h,h'\n",
    "%timeit -n 1 -r 1 print(run_calchep(proc,1000,1))"
   ]
  },
  {
   "cell_type": "code",
   "execution_count": 5,
   "metadata": {},
   "outputs": [
    {
     "ename": "KeyboardInterrupt",
     "evalue": "",
     "output_type": "error",
     "traceback": [
      "\u001b[0;31m---------------------------------------------------------------------------\u001b[0m",
      "\u001b[0;31mKeyboardInterrupt\u001b[0m                         Traceback (most recent call last)",
      "\u001b[0;32m<ipython-input-5-c761920b81b0>\u001b[0m in \u001b[0;36m<module>\u001b[0;34m\u001b[0m\n\u001b[0;32m----> 1\u001b[0;31m \u001b[0;32mraise\u001b[0m \u001b[0mKeyboardInterrupt\u001b[0m\u001b[0;34m\u001b[0m\u001b[0;34m\u001b[0m\u001b[0m\n\u001b[0m",
      "\u001b[0;31mKeyboardInterrupt\u001b[0m: "
     ]
    }
   ],
   "source": [
    "raise KeyboardInterrupt"
   ]
  },
  {
   "cell_type": "code",
   "execution_count": 6,
   "metadata": {},
   "outputs": [],
   "source": [
    "proc='h,h->h,h,h'\n",
    "mh_p = lambda p: np.sqrt(125**2+ 0.5*(p/3.)**2)\n",
    "\n",
    "csx=[]\n",
    "err=[]\n",
    "pcm=[]\n",
    "for p in np.logspace(0,4,50):\n",
    "    tmp=run_calchep(proc,pcm=p, mh = mh_p(p))\n",
    "    pcm.append(p)\n",
    "    csx.append(tmp[0])\n",
    "    err.append(tmp[1])"
   ]
  },
  {
   "cell_type": "code",
   "execution_count": 7,
   "metadata": {},
   "outputs": [
    {
     "data": {
      "image/png": "[encoded data removed]",
      "text/plain": [
       "<Figure size 432x288 with 1 Axes>"
      ]
     },
     "metadata": {
      "needs_background": "light"
     },
     "output_type": "display_data"
    }
   ],
   "source": [
    "csx=np.array(csx)\n",
    "err=np.array(err)\n",
    "\n",
    "fig, ax = plt.subplots()\n",
    "\n",
    "ax.plot(pcm,csx*(1+err))\n",
    "ax.plot(pcm,csx*(1-err))\n",
    "\n",
    "ax.set_xscale('log')\n",
    "ax.set_yscale('log')\n",
    "\n",
    "plt.show()"
   ]
  },
  {
   "cell_type": "code",
   "execution_count": null,
   "metadata": {},
   "outputs": [],
   "source": []
  },
  {
   "cell_type": "code",
   "execution_count": null,
   "metadata": {},
   "outputs": [],
   "source": []
  }
 ],
 "metadata": {
  "kernelspec": {
   "display_name": "Python 3",
   "language": "python",
   "name": "python3"
  },
  "language_info": {
   "codemirror_mode": {
    "name": "ipython",
    "version": 3
   },
   "file_extension": ".py",
   "mimetype": "text/x-python",
   "name": "python",
   "nbconvert_exporter": "python",
   "pygments_lexer": "ipython3",
   "version": "3.7.4"
  }
 },
 "nbformat": 4,
 "nbformat_minor": 2
}
